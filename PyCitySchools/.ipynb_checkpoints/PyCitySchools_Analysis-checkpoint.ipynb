{
 "cells": [
  {
   "cell_type": "code",
   "execution_count": null,
   "id": "41af4bed",
   "metadata": {},
   "outputs": [],
   "source": [
    "##############################################\n",
    "#  Author:  Kevin Krause\n",
    "#  KU Data Analytics Bootcamp\n",
    "#  Module 3 Challenge - Pandas Challenge\n",
    "#           District Student and Student Data\n",
    "#  Due Date:  April 27, 2023\n",
    "##############################################"
   ]
  },
  {
   "cell_type": "code",
   "execution_count": null,
   "id": "c85da22c",
   "metadata": {},
   "outputs": [],
   "source": [
    "# Establish dependencies and Initial File Setup\n",
    "\n",
    "# pandas dependency\n",
    "import pandas as pd\n",
    "from pathlib import Path\n",
    "import numpy as np\n",
    "\n",
    "\n",
    "# File to Load (Remember to Change These)\n",
    "school_data_to_load = Path(\"Resources/schools_complete.csv\")\n",
    "student_data_to_load = Path(\"Resources/students_complete.csv\")\n",
    "temp_output = Path(\"Resources/temporary_working_data.csv\")\n",
    "\n",
    "# Read School and Student Data File and store into Pandas DataFrames\n",
    "school_data_df = pd.read_csv(school_data_to_load)\n",
    "student_data_df = pd.read_csv(student_data_to_load)\n",
    "\n",
    "# Combine the data into a single dataset.  \n",
    "all_school_data_df = pd.merge(student_data_df, school_data_df, how=\"left\", on=[\"school_name\", \"school_name\"])\n",
    "all_school_data_df.head()"
   ]
  },
  {
   "cell_type": "code",
   "execution_count": null,
   "id": "fe188474",
   "metadata": {},
   "outputs": [],
   "source": [
    "# Calculate the total number of unique schools\n",
    "count_of_unique_schools = all_school_data_df[\"school_name\"].nunique()\n",
    "count_of_unique_schools"
   ]
  },
  {
   "cell_type": "code",
   "execution_count": null,
   "id": "f08cea79",
   "metadata": {},
   "outputs": [],
   "source": [
    "# Calculate the total number of students\n",
    "district_student_count = all_school_data_df.shape[0]\n",
    "district_student_count"
   ]
  },
  {
   "cell_type": "code",
   "execution_count": null,
   "id": "869a53da",
   "metadata": {},
   "outputs": [],
   "source": [
    "## Calculate the total budget for all schools in the district\n",
    "district_total_budget = school_data_df[\"budget\"].sum()\n",
    "district_total_budget"
   ]
  },
  {
   "cell_type": "code",
   "execution_count": null,
   "id": "bb34437b",
   "metadata": {},
   "outputs": [],
   "source": [
    "## Calculate the average math score for all of the students in the district\n",
    "district_Average_Math_Score = student_data_df[\"math_score\"].mean()\n",
    "district_Average_Math_Score"
   ]
  },
  {
   "cell_type": "code",
   "execution_count": null,
   "id": "7010062e",
   "metadata": {},
   "outputs": [],
   "source": [
    "## Calculate the average reading score for all of the students in the district\n",
    "district_Average_Reading_Score = student_data_df[\"reading_score\"].mean()\n",
    "district_Average_Reading_Score "
   ]
  },
  {
   "cell_type": "code",
   "execution_count": null,
   "id": "b49cef02",
   "metadata": {},
   "outputs": [],
   "source": [
    "## the percentage of students that passed math\n",
    "passing_math_count = all_school_data_df[\n",
    "    (all_school_data_df[\"math_score\"] >= 70)\n",
    "].count()[\"student_name\"]\n",
    "passing_math_count\n",
    "passing_math_student_pct = (passing_math_count / district_student_count) * 100\n",
    "passing_math_student_pct\n"
   ]
  },
  {
   "cell_type": "code",
   "execution_count": null,
   "id": "e6b6f94a",
   "metadata": {},
   "outputs": [],
   "source": [
    "## the percentage of students that passed math\n",
    "passing_reading_count = all_school_data_df[\n",
    "    (all_school_data_df[\"reading_score\"] >= 70)\n",
    "].count()[\"student_name\"]\n",
    "passing_reading_count\n",
    "passing_reading_student_pct = (passing_reading_count / district_student_count) * 100\n",
    "passing_reading_student_pct"
   ]
  },
  {
   "cell_type": "code",
   "execution_count": null,
   "id": "87d433ec",
   "metadata": {},
   "outputs": [],
   "source": [
    "passing_math_reading_count = all_school_data_df[\n",
    "    (all_school_data_df[\"math_score\"] >= 70) & (all_school_data_df[\"reading_score\"] >= 70)\n",
    "].count()[\"student_name\"]\n",
    "overall_passing_pct = passing_math_reading_count /  float(district_student_count) * 100\n",
    "overall_passing_pct"
   ]
  },
  {
   "cell_type": "code",
   "execution_count": null,
   "id": "755e4053",
   "metadata": {},
   "outputs": [],
   "source": [
    "# Create a high-level snapshot of the district's key metrics in a DataFrame\n",
    "#\n",
    "#district_student_count = district_student_count.map(\"{:,}\".format)\n",
    "\n",
    "district_summary_data = {'Total Schools':[district_student_count],\n",
    "                         'Total Students':[district_student_count],\n",
    "                         'Total Budget':[district_total_budget],\n",
    "                         'Average Math Score':[district_Average_Math_Score],\n",
    "                         'Averate Reading Score':[district_Average_Reading_Score],\n",
    "                         '%Passing Math':[passing_math_student_pct],\n",
    "                         '%Passing Reading':[passing_reading_student_pct],\n",
    "                         '%Overall Passing':[overall_passing_pct]\n",
    "                        }\n",
    "district_summary_df = pd.DataFrame(data=district_summary_data)\n",
    "\n",
    "district_summary_df[\"Total Students\"] = district_summary_df[\"Total Students\"].map(\"{:,}\".format)\n",
    "district_summary_df[\"Total Budget\"] = district_summary_df[\"Total Budget\"].map(\"${:,.2f}\".format)\n",
    "\n",
    "district_summary_df"
   ]
  },
  {
   "cell_type": "code",
   "execution_count": null,
   "id": "c9a99ca9",
   "metadata": {},
   "outputs": [],
   "source": [
    "#School types\n",
    "school_types_df = school_data_df[['school_name','type']].sort_values('school_name')\n",
    "school_types_df"
   ]
  },
  {
   "cell_type": "code",
   "execution_count": null,
   "id": "6deddb68",
   "metadata": {},
   "outputs": [],
   "source": [
    "# Total Students per School  ????\n",
    "students_per_school_df = all_school_data_df.school_name.value_counts()\n",
    "students_per_school_df = students_per_school_df.reset_index()\n",
    "students_per_school_df = students_per_school_df.rename(columns={\"index\":\"school_name\",\"school_name\":\"population\"})\n",
    "students_per_school_df"
   ]
  },
  {
   "cell_type": "code",
   "execution_count": null,
   "id": "0eee2f52",
   "metadata": {},
   "outputs": [],
   "source": [
    "#budget per school\n",
    "school_budgets_df = school_data_df[['school_name','budget']].sort_values('school_name')\n",
    "school_budgets_df"
   ]
  },
  {
   "cell_type": "code",
   "execution_count": null,
   "id": "ab57c135",
   "metadata": {},
   "outputs": [],
   "source": [
    "#Merge school_budgets df and students per school to use to calculate per student budget below\n",
    "all_budget_data_df = pd.merge(school_budgets_df, students_per_school_df, how=\"left\", on=[\"school_name\", \"school_name\"]).sort_values('school_name')\n",
    "all_budget_data_df"
   ]
  },
  {
   "cell_type": "code",
   "execution_count": null,
   "id": "58ef6504",
   "metadata": {},
   "outputs": [],
   "source": [
    "#using the merged data above calculate and display budget per student\n",
    "  \n",
    "for index, row in all_budget_data_df.iterrows():\n",
    "    all_budget_data_df['Per_Student_Budget'] = all_budget_data_df.budget/all_budget_data_df.population\n",
    "   \n",
    "all_budget_data_df"
   ]
  },
  {
   "cell_type": "code",
   "execution_count": null,
   "id": "e3963468",
   "metadata": {},
   "outputs": [],
   "source": [
    "# Calculate the average math test scores per school\n",
    "all_math_scores = all_school_data_df.groupby('school_name')['math_score'].mean().to_frame('AvG_Math_Score').reset_index()\n",
    "all_math_scores"
   ]
  },
  {
   "cell_type": "code",
   "execution_count": null,
   "id": "feb688ab",
   "metadata": {},
   "outputs": [],
   "source": [
    "# Calculate the average reading test scores per school\n",
    "all_reading_scores = all_school_data_df.groupby('school_name')['reading_score'].mean().to_frame('AvG_Reading_Score').reset_index()\n",
    "all_reading_scores"
   ]
  },
  {
   "cell_type": "code",
   "execution_count": null,
   "id": "04e04860",
   "metadata": {},
   "outputs": [],
   "source": [
    "# Calculate the number of students per school with math scores of 70 or higher\n",
    "math_gt_70_df = all_school_data_df.loc[all_school_data_df['math_score'] > 70].value_counts('school_name').to_frame('Num_Students_Passing_Math').reset_index()\n",
    "math_gt_70_df"
   ]
  },
  {
   "cell_type": "code",
   "execution_count": null,
   "id": "f66a0cbd",
   "metadata": {},
   "outputs": [],
   "source": [
    "# Calculate the number of students per school with reading scores of 70 or higher\n",
    "reading_gt_70_df = all_school_data_df.loc[all_school_data_df['reading_score'] > 70].value_counts('school_name').to_frame('Num_Students_Passing_Reading').reset_index()\n",
    "reading_gt_70_df"
   ]
  },
  {
   "cell_type": "code",
   "execution_count": null,
   "id": "5e4c03ef",
   "metadata": {},
   "outputs": [],
   "source": [
    "# Use the provided code to calculate the number of students per school \n",
    "# that passed both math and reading with scores of 70 or higher\n",
    "\n",
    "students_passing_math_and_reading = all_school_data_df[\n",
    "    (all_school_data_df[\"reading_score\"] >= 70) & (all_school_data_df[\"math_score\"] >= 70)\n",
    "]\n",
    "school_students_passing_math_and_reading = students_passing_math_and_reading.groupby([\"school_name\"]).size().to_frame('Num_Passing_RandM').reset_index()\n",
    "school_students_passing_math_and_reading\n",
    "\n"
   ]
  },
  {
   "cell_type": "code",
   "execution_count": null,
   "id": "59e57e86",
   "metadata": {},
   "outputs": [],
   "source": [
    "# Ccalculate the passing rates\n",
    "all_passing_rates1 = pd.merge(students_per_school_df,math_gt_70_df,\n",
    "                             how=\"left\",on=[\"school_name\", \"school_name\"]).sort_values('school_name')\n",
    "all_passing_rates2 = pd.merge(all_passing_rates1,reading_gt_70_df,\n",
    "                             how=\"left\",on=[\"school_name\", \"school_name\"]).sort_values('school_name')\n",
    "all_passing_rates_df = pd.merge(all_passing_rates2,school_students_passing_math_and_reading,\n",
    "                             how=\"left\",on=[\"school_name\", \"school_name\"]).sort_values('school_name')\n",
    "all_passing_rates_df\n"
   ]
  },
  {
   "cell_type": "code",
   "execution_count": null,
   "id": "8c6f53ed",
   "metadata": {},
   "outputs": [],
   "source": [
    "##calculate the passing rates\n",
    "\n",
    "for index, row in all_passing_rates_df.iterrows():\n",
    "    all_passing_rates_df['%_Pass_Math'] = (all_passing_rates_df.Num_Students_Passing_Math/all_passing_rates_df.population) * 100\n",
    "    all_passing_rates_df['%_Pass_Reading'] = (all_passing_rates_df.Num_Students_Passing_Reading/all_passing_rates_df.population) * 100\n",
    "    all_passing_rates_df['%_Overall_Passing'] = (all_passing_rates_df.Num_Passing_RandM/all_passing_rates_df.population) * 100\n",
    "    \n",
    "all_passing_rates_df"
   ]
  },
  {
   "cell_type": "code",
   "execution_count": null,
   "id": "5982f55b",
   "metadata": {},
   "outputs": [],
   "source": [
    "#  Summary Dataframe of all school data collected and calculated\n",
    "\n",
    "per_school_summ1 = pd.merge(school_types_df[['school_name','type']],\n",
    "                            all_budget_data_df[['school_name','population','budget','Per_Student_Budget']],\n",
    "                            on=[\"school_name\", \"school_name\"])\n",
    "\n",
    "per_school_summ2 = pd.merge(per_school_summ1[['school_name','type','population','budget','Per_Student_Budget']],\n",
    "                            all_math_scores[['school_name','AvG_Math_Score']],\n",
    "                            on=[\"school_name\", \"school_name\"])\n",
    "\n",
    "per_school_summ3 = pd.merge(per_school_summ2[['school_name','type','population','budget','Per_Student_Budget','AvG_Math_Score']],\n",
    "                            all_reading_scores[['school_name','AvG_Reading_Score']],\n",
    "                            on=[\"school_name\", \"school_name\"])\n",
    "\n",
    "per_school_summary = pd.merge(per_school_summ3[['school_name','type','population','budget','Per_Student_Budget','AvG_Math_Score','AvG_Reading_Score']],\n",
    "                            all_passing_rates_df[['school_name','%_Pass_Math','%_Pass_Reading','%_Overall_Passing']],\n",
    "                            on=[\"school_name\", \"school_name\"])\n",
    "\n",
    "per_school_summary\n"
   ]
  },
  {
   "cell_type": "code",
   "execution_count": null,
   "id": "41f96db2",
   "metadata": {},
   "outputs": [],
   "source": [
    "# Sort the schools by `% Overall Passing` in descending order and display the top 5 rows.\n",
    "top_schools = per_school_summary.sort_values(by='%_Overall_Passing',ascending=False)\n",
    "top_schools.head(5)"
   ]
  },
  {
   "cell_type": "code",
   "execution_count": null,
   "id": "39235461",
   "metadata": {},
   "outputs": [],
   "source": [
    "bottom_schools = per_school_summary.sort_values(by='%_Overall_Passing',ascending=True)\n",
    "bottom_schools.head(5)"
   ]
  },
  {
   "cell_type": "code",
   "execution_count": null,
   "id": "5307b076",
   "metadata": {},
   "outputs": [],
   "source": [
    "# Use the code provided to separate the math data by grade\n",
    "ninth_graders = all_school_data_df[(all_school_data_df[\"grade\"] == \"9th\")]\n",
    "tenth_graders = all_school_data_df[(all_school_data_df[\"grade\"] == \"10th\")]\n",
    "eleventh_graders = all_school_data_df[(all_school_data_df[\"grade\"] == \"11th\")]\n",
    "twelfth_graders = all_school_data_df[(all_school_data_df[\"grade\"] == \"12th\")]\n",
    "\n",
    "\n",
    "# Group by `school_name` and take the mean of the `math_score` column for each.\n",
    "ninth_grade_math_scores = ninth_graders.groupby('school_name')['math_score'].mean().to_frame('Ninth_Math_Score').reset_index()\n",
    "tenth_grade_math_scores = tenth_graders.groupby('school_name')['math_score'].mean().to_frame('Tenth_Math_Score').reset_index()\n",
    "eleventh_grade_math_scores = eleventh_graders.groupby('school_name')['math_score'].mean().to_frame('Eleventh_Math_Score').reset_index()\n",
    "twelfth_grade_math_scores = twelfth_graders.groupby('school_name')['math_score'].mean().to_frame('Twelfth_Math_Score').reset_index()\n",
    "\n",
    "# Merge into one data frame\n",
    "math_scores_by_grade1 = pd.merge(ninth_grade_math_scores,tenth_grade_math_scores,on=[\"school_name\", \"school_name\"])\n",
    "math_scores_by_grade2 = pd.merge(math_scores_by_grade1,eleventh_grade_math_scores,on=[\"school_name\", \"school_name\"])\n",
    "math_scores_by_grade = pd.merge(math_scores_by_grade2,twelfth_grade_math_scores,on=[\"school_name\", \"school_name\"])\n",
    "\n",
    "#display math scores by grade\n",
    "math_scores_by_grade"
   ]
  },
  {
   "cell_type": "code",
   "execution_count": null,
   "id": "abdaf829",
   "metadata": {},
   "outputs": [],
   "source": [
    "# Use the code provided to separate the reading data by grade\n",
    "ninth_graders = all_school_data_df[(all_school_data_df[\"grade\"] == \"9th\")]\n",
    "tenth_graders = all_school_data_df[(all_school_data_df[\"grade\"] == \"10th\")]\n",
    "eleventh_graders = all_school_data_df[(all_school_data_df[\"grade\"] == \"11th\")]\n",
    "twelfth_graders = all_school_data_df[(all_school_data_df[\"grade\"] == \"12th\")]\n",
    "\n",
    "\n",
    "# Group by `school_name` and take the mean of the `reading_score` column for each.\n",
    "ninth_grade_reading_scores = ninth_graders.groupby('school_name')['reading_score'].mean().to_frame('Ninth_reading_Score').reset_index()\n",
    "tenth_grade_reading_scores = tenth_graders.groupby('school_name')['reading_score'].mean().to_frame('Tenth_reading_Score').reset_index()\n",
    "eleventh_grade_reading_scores = eleventh_graders.groupby('school_name')['reading_score'].mean().to_frame('Eleventh_reading_Score').reset_index()\n",
    "twelfth_grade_reading_scores = twelfth_graders.groupby('school_name')['reading_score'].mean().to_frame('Twelfth_reading_Score').reset_index()\n",
    "\n",
    "# Merge into one data frame\n",
    "reading_scores_by_grade1 = pd.merge(ninth_grade_reading_scores,tenth_grade_reading_scores,on=[\"school_name\", \"school_name\"])\n",
    "reading_scores_by_grade2 = pd.merge(reading_scores_by_grade1,eleventh_grade_reading_scores,on=[\"school_name\", \"school_name\"])\n",
    "reading_scores_by_grade = pd.merge(reading_scores_by_grade2,twelfth_grade_reading_scores,on=[\"school_name\", \"school_name\"])\n",
    "\n",
    "#display reading scores by grade\n",
    "reading_scores_by_grade"
   ]
  },
  {
   "cell_type": "code",
   "execution_count": null,
   "id": "5a1cb612",
   "metadata": {},
   "outputs": [],
   "source": [
    "################################# SCORES BY SCHOOL SPENDING #################################"
   ]
  },
  {
   "cell_type": "code",
   "execution_count": null,
   "id": "ff0a8fcf",
   "metadata": {},
   "outputs": [],
   "source": [
    "#scores by school binning\n",
    "spending_bins = [0, 585, 630, 645, 680]\n",
    "labels = [\"<$585\", \"$585-630\", \"$630-645\", \"$645-680\"]"
   ]
  },
  {
   "cell_type": "code",
   "execution_count": null,
   "id": "16df3936",
   "metadata": {},
   "outputs": [],
   "source": [
    "# Create a copy of the school summary since it has the \"Per Student Budget\" \n",
    "school_spending_df = per_school_summary.copy()\n",
    "school_spending_df"
   ]
  },
  {
   "cell_type": "code",
   "execution_count": null,
   "id": "a9a97ee9",
   "metadata": {},
   "outputs": [],
   "source": [
    "# Use `pd.cut` to categorize spending based on the bins.\n",
    "school_spending_df[\"Spending Ranges (Per Student)\"] = \n",
    "school_spending_df"
   ]
  },
  {
   "cell_type": "code",
   "execution_count": null,
   "id": "25056cd1",
   "metadata": {},
   "outputs": [],
   "source": [
    "#  Calculate averages for the desired columns. \n",
    "#spending_math_scores = school_spending_df.groupby([\"Spending_bins (Per_Student_Budget)\"])[\"AvG_Math_Score\"].mean()\n",
    "#spending_reading_scores = school_spending_df.groupby([\"Spending Ranges (Per Student)\"])[\"Average Reading Score\"].mean()\n",
    "#spending_passing_math = school_spending_df.groupby([\"Spending Ranges (Per Student)\"])[\"% Passing Math\"].mean()\n",
    "#spending_passing_reading = school_spending_df.groupby([\"Spending Ranges (Per Student)\"])[\"% Passing Reading\"].mean()\n",
    "#overall_passing_spending = school_spending_df.groupby([\"Spending Ranges (Per Student)\"])[\"% Overall Passing\"].mean()"
   ]
  },
  {
   "cell_type": "code",
   "execution_count": null,
   "id": "a03645d5",
   "metadata": {},
   "outputs": [],
   "source": [
    "################################# SCORES BY SCHOOL SIZE #################################"
   ]
  },
  {
   "cell_type": "code",
   "execution_count": null,
   "id": "d69b5352",
   "metadata": {},
   "outputs": [],
   "source": []
  },
  {
   "cell_type": "code",
   "execution_count": null,
   "id": "8963426b",
   "metadata": {},
   "outputs": [],
   "source": [
    "################################# SCORES BY SCHOOL TYPE  #######################################"
   ]
  },
  {
   "cell_type": "code",
   "execution_count": null,
   "id": "f27a8e51",
   "metadata": {},
   "outputs": [],
   "source": [
    "math_scores_by_type = per_school_summary.groupby(['type']).mean('AvG_Math_Score')\n",
    "math_scores_by_type"
   ]
  },
  {
   "cell_type": "code",
   "execution_count": null,
   "id": "8d6ef53f",
   "metadata": {},
   "outputs": [],
   "source": [
    "reading_scores_by_type = per_school_summary.groupby([\"type\"]).mean('AvG_Reading_Score')\n",
    "reading_scores_by_type"
   ]
  }
 ],
 "metadata": {
  "kernelspec": {
   "display_name": "Python 3 (ipykernel)",
   "language": "python",
   "name": "python3"
  },
  "language_info": {
   "codemirror_mode": {
    "name": "ipython",
    "version": 3
   },
   "file_extension": ".py",
   "mimetype": "text/x-python",
   "name": "python",
   "nbconvert_exporter": "python",
   "pygments_lexer": "ipython3",
   "version": "3.10.10"
  }
 },
 "nbformat": 4,
 "nbformat_minor": 5
}
